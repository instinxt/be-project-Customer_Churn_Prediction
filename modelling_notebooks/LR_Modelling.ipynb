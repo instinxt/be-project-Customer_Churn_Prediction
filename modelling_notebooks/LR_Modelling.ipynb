{
 "cells": [
  {
   "cell_type": "code",
   "execution_count": 1,
   "metadata": {},
   "outputs": [
    {
     "name": "stdout",
     "output_type": "stream",
     "text": [
      "Requirement already satisfied: imblearn in c:\\users\\newcomern\\anaconda3\\lib\\site-packages (0.0)\n",
      "Requirement already satisfied: imbalanced-learn in c:\\users\\newcomern\\anaconda3\\lib\\site-packages (from imblearn) (0.7.0)\n",
      "Requirement already satisfied: scipy>=0.19.1 in c:\\users\\newcomern\\anaconda3\\lib\\site-packages (from imbalanced-learn->imblearn) (1.4.1)\n",
      "Requirement already satisfied: scikit-learn>=0.23 in c:\\users\\newcomern\\anaconda3\\lib\\site-packages (from imbalanced-learn->imblearn) (0.23.2)\n",
      "Requirement already satisfied: joblib>=0.11 in c:\\users\\newcomern\\anaconda3\\lib\\site-packages (from imbalanced-learn->imblearn) (0.13.2)\n",
      "Requirement already satisfied: numpy>=1.13.3 in c:\\users\\newcomern\\anaconda3\\lib\\site-packages (from imbalanced-learn->imblearn) (1.16.5)\n",
      "Requirement already satisfied: threadpoolctl>=2.0.0 in c:\\users\\newcomern\\anaconda3\\lib\\site-packages (from scikit-learn>=0.23->imbalanced-learn->imblearn) (2.1.0)\n"
     ]
    }
   ],
   "source": [
    "!pip install imblearn\n",
    "\n",
    "import os\n",
    "\n",
    "import pandas as pd\n",
    "import numpy as np\n",
    "\n",
    "# Matplotlib for visualization\n",
    "from matplotlib import pyplot as plt\n",
    "# display plots in the notebook\n",
    "%matplotlib inline\n",
    "\n",
    "# Seaborn for easier visualization\n",
    "import seaborn as sns\n",
    "### sns.set_style('darkgrid')\n",
    "\n",
    "# store elements as dictionary keys and their counts as dictionary values\n",
    "from collections import Counter\n",
    "\n",
    "# scikit-learn\n",
    "from sklearn.model_selection import train_test_split\n",
    "\n",
    "from sklearn.preprocessing import MinMaxScaler, OneHotEncoder, LabelEncoder\n",
    "from sklearn.compose import ColumnTransformer, make_column_transformer\n",
    "from sklearn.pipeline import make_pipeline\n",
    "\n",
    "# Classification metrics\n",
    "from sklearn.metrics import confusion_matrix, classification_report\n",
    "\n",
    "# Function for creating model pipelines - sklearn\n",
    "from sklearn.pipeline import make_pipeline\n",
    "\n",
    "# Function for creating model pipelines - imblearn\n",
    "from imblearn.pipeline import make_pipeline as imbl_pipe\n",
    "\n",
    "# Over-sampling using SMOTE\n",
    "from imblearn.over_sampling import SMOTE\n"
   ]
  },
  {
   "cell_type": "code",
   "execution_count": 2,
   "metadata": {},
   "outputs": [
    {
     "data": {
      "text/html": [
       "<div>\n",
       "<style scoped>\n",
       "    .dataframe tbody tr th:only-of-type {\n",
       "        vertical-align: middle;\n",
       "    }\n",
       "\n",
       "    .dataframe tbody tr th {\n",
       "        vertical-align: top;\n",
       "    }\n",
       "\n",
       "    .dataframe thead th {\n",
       "        text-align: right;\n",
       "    }\n",
       "</style>\n",
       "<table border=\"1\" class=\"dataframe\">\n",
       "  <thead>\n",
       "    <tr style=\"text-align: right;\">\n",
       "      <th></th>\n",
       "      <th>CreditScore</th>\n",
       "      <th>Geography</th>\n",
       "      <th>Gender</th>\n",
       "      <th>Age</th>\n",
       "      <th>Tenure</th>\n",
       "      <th>Balance</th>\n",
       "      <th>NumOfProducts</th>\n",
       "      <th>HasCrCard</th>\n",
       "      <th>IsActiveMember</th>\n",
       "      <th>EstimatedSalary</th>\n",
       "      <th>Exited</th>\n",
       "    </tr>\n",
       "  </thead>\n",
       "  <tbody>\n",
       "    <tr>\n",
       "      <td>0</td>\n",
       "      <td>619</td>\n",
       "      <td>France</td>\n",
       "      <td>Female</td>\n",
       "      <td>42</td>\n",
       "      <td>2</td>\n",
       "      <td>0.00</td>\n",
       "      <td>1</td>\n",
       "      <td>1</td>\n",
       "      <td>1</td>\n",
       "      <td>101348.88</td>\n",
       "      <td>1</td>\n",
       "    </tr>\n",
       "    <tr>\n",
       "      <td>1</td>\n",
       "      <td>608</td>\n",
       "      <td>Spain</td>\n",
       "      <td>Female</td>\n",
       "      <td>41</td>\n",
       "      <td>1</td>\n",
       "      <td>83807.86</td>\n",
       "      <td>1</td>\n",
       "      <td>0</td>\n",
       "      <td>1</td>\n",
       "      <td>112542.58</td>\n",
       "      <td>0</td>\n",
       "    </tr>\n",
       "    <tr>\n",
       "      <td>2</td>\n",
       "      <td>502</td>\n",
       "      <td>France</td>\n",
       "      <td>Female</td>\n",
       "      <td>42</td>\n",
       "      <td>8</td>\n",
       "      <td>159660.80</td>\n",
       "      <td>3</td>\n",
       "      <td>1</td>\n",
       "      <td>0</td>\n",
       "      <td>113931.57</td>\n",
       "      <td>1</td>\n",
       "    </tr>\n",
       "    <tr>\n",
       "      <td>3</td>\n",
       "      <td>699</td>\n",
       "      <td>France</td>\n",
       "      <td>Female</td>\n",
       "      <td>39</td>\n",
       "      <td>1</td>\n",
       "      <td>0.00</td>\n",
       "      <td>2</td>\n",
       "      <td>0</td>\n",
       "      <td>0</td>\n",
       "      <td>93826.63</td>\n",
       "      <td>0</td>\n",
       "    </tr>\n",
       "    <tr>\n",
       "      <td>4</td>\n",
       "      <td>850</td>\n",
       "      <td>Spain</td>\n",
       "      <td>Female</td>\n",
       "      <td>43</td>\n",
       "      <td>2</td>\n",
       "      <td>125510.82</td>\n",
       "      <td>1</td>\n",
       "      <td>1</td>\n",
       "      <td>1</td>\n",
       "      <td>79084.10</td>\n",
       "      <td>0</td>\n",
       "    </tr>\n",
       "  </tbody>\n",
       "</table>\n",
       "</div>"
      ],
      "text/plain": [
       "   CreditScore Geography  Gender  Age  Tenure    Balance  NumOfProducts  \\\n",
       "0          619    France  Female   42       2       0.00              1   \n",
       "1          608     Spain  Female   41       1   83807.86              1   \n",
       "2          502    France  Female   42       8  159660.80              3   \n",
       "3          699    France  Female   39       1       0.00              2   \n",
       "4          850     Spain  Female   43       2  125510.82              1   \n",
       "\n",
       "   HasCrCard  IsActiveMember  EstimatedSalary  Exited  \n",
       "0          1               1        101348.88       1  \n",
       "1          0               1        112542.58       0  \n",
       "2          1               0        113931.57       1  \n",
       "3          0               0         93826.63       0  \n",
       "4          1               1         79084.10       0  "
      ]
     },
     "execution_count": 2,
     "metadata": {},
     "output_type": "execute_result"
    }
   ],
   "source": [
    "abt = pd.read_csv(\"../Resources/analytical_base_table.csv\")\n",
    "abt.head()"
   ]
  },
  {
   "cell_type": "markdown",
   "metadata": {},
   "source": [
    "## Models Training"
   ]
  },
  {
   "cell_type": "markdown",
   "metadata": {},
   "source": [
    "## Let's start by splitting our dataframe into separate objects:\n",
    "\n",
    "y for the target varibale\n",
    "\n",
    "X for the input features"
   ]
  },
  {
   "cell_type": "code",
   "execution_count": 3,
   "metadata": {},
   "outputs": [
    {
     "name": "stdout",
     "output_type": "stream",
     "text": [
      "(10000, 10) (10000,)\n"
     ]
    }
   ],
   "source": [
    "#Separate dataframe into separate object\n",
    "\n",
    "# Object for target variable\n",
    "y = abt.Exited\n",
    "\n",
    "# object for input features\n",
    "X = abt.drop(['Exited'], axis=1)\n",
    "\n",
    "# display shapes of X and y\n",
    "print(X.shape, y.shape)\n"
   ]
  },
  {
   "cell_type": "code",
   "execution_count": 4,
   "metadata": {},
   "outputs": [
    {
     "data": {
      "text/plain": [
       "['CreditScore',\n",
       " 'Age',\n",
       " 'Tenure',\n",
       " 'Balance',\n",
       " 'NumOfProducts',\n",
       " 'HasCrCard',\n",
       " 'IsActiveMember',\n",
       " 'EstimatedSalary']"
      ]
     },
     "execution_count": 4,
     "metadata": {},
     "output_type": "execute_result"
    }
   ],
   "source": [
    "# List numerical features\n",
    "num_columns = X.select_dtypes(include='number').columns.tolist()\n",
    "num_columns"
   ]
  },
  {
   "cell_type": "code",
   "execution_count": 5,
   "metadata": {},
   "outputs": [
    {
     "data": {
      "text/plain": [
       "['Geography', 'Gender']"
      ]
     },
     "execution_count": 5,
     "metadata": {},
     "output_type": "execute_result"
    }
   ],
   "source": [
    "# List categorical features\n",
    "cat_columns = X.select_dtypes(include='object').columns.tolist()\n",
    "cat_columns"
   ]
  },
  {
   "cell_type": "code",
   "execution_count": 6,
   "metadata": {},
   "outputs": [],
   "source": [
    "def class_count(a):\n",
    "    counter=Counter(a)\n",
    "    kv=[list(counter.keys()),list(counter.values())]\n",
    "    abt2 = pd.DataFrame(np.array(kv).T, columns=['Exited','Count'])\n",
    "    abt2['Count'] = abt2['Count'].astype('int64')\n",
    "    abt2['%'] = round(abt2['Count'] / a.shape[0] * 100, 2)\n",
    "    return abt2.sort_values('Count',ascending=False)"
   ]
  },
  {
   "cell_type": "code",
   "execution_count": 7,
   "metadata": {},
   "outputs": [
    {
     "data": {
      "text/html": [
       "<div>\n",
       "<style scoped>\n",
       "    .dataframe tbody tr th:only-of-type {\n",
       "        vertical-align: middle;\n",
       "    }\n",
       "\n",
       "    .dataframe tbody tr th {\n",
       "        vertical-align: top;\n",
       "    }\n",
       "\n",
       "    .dataframe thead th {\n",
       "        text-align: right;\n",
       "    }\n",
       "</style>\n",
       "<table border=\"1\" class=\"dataframe\">\n",
       "  <thead>\n",
       "    <tr style=\"text-align: right;\">\n",
       "      <th></th>\n",
       "      <th>Exited</th>\n",
       "      <th>Count</th>\n",
       "      <th>%</th>\n",
       "    </tr>\n",
       "  </thead>\n",
       "  <tbody>\n",
       "    <tr>\n",
       "      <td>1</td>\n",
       "      <td>0</td>\n",
       "      <td>7963</td>\n",
       "      <td>79.63</td>\n",
       "    </tr>\n",
       "    <tr>\n",
       "      <td>0</td>\n",
       "      <td>1</td>\n",
       "      <td>2037</td>\n",
       "      <td>20.37</td>\n",
       "    </tr>\n",
       "  </tbody>\n",
       "</table>\n",
       "</div>"
      ],
      "text/plain": [
       "   Exited  Count      %\n",
       "1       0   7963  79.63\n",
       "0       1   2037  20.37"
      ]
     },
     "execution_count": 7,
     "metadata": {},
     "output_type": "execute_result"
    }
   ],
   "source": [
    "class_count(y)\n"
   ]
  },
  {
   "cell_type": "markdown",
   "metadata": {},
   "source": [
    "## Create a Train Test Split\n",
    "\n",
    "We will continue with splitting our data into separate training and test sets.\n",
    "\n",
    "30% of observations will be set aside for the test set\n",
    "\n",
    "the rest, 70%, will be used as the training set"
   ]
  },
  {
   "cell_type": "code",
   "execution_count": 8,
   "metadata": {},
   "outputs": [
    {
     "name": "stdout",
     "output_type": "stream",
     "text": [
      "7000 3000 7000 3000\n"
     ]
    }
   ],
   "source": [
    "random_state = 10\n",
    "\n",
    "# Split X and y into train and test sets\n",
    "X_train, X_test, y_train, y_test = train_test_split(X, y,\n",
    "                                                    test_size=0.3,\n",
    "                                                    random_state=random_state,\n",
    "                                                    stratify=abt.Exited)\n",
    "\n",
    "# Print number of observations in X_train, X_test, y_train, and y_test\n",
    "print(len(X_train), len(X_test), len(y_train), len(y_test))"
   ]
  },
  {
   "cell_type": "code",
   "execution_count": 9,
   "metadata": {},
   "outputs": [
    {
     "name": "stdout",
     "output_type": "stream",
     "text": [
      "<class 'pandas.core.frame.DataFrame'>\n",
      "Int64Index: 7000 entries, 8061 to 4741\n",
      "Data columns (total 10 columns):\n",
      "CreditScore        7000 non-null int64\n",
      "Geography          7000 non-null object\n",
      "Gender             7000 non-null object\n",
      "Age                7000 non-null int64\n",
      "Tenure             7000 non-null int64\n",
      "Balance            7000 non-null float64\n",
      "NumOfProducts      7000 non-null int64\n",
      "HasCrCard          7000 non-null int64\n",
      "IsActiveMember     7000 non-null int64\n",
      "EstimatedSalary    7000 non-null float64\n",
      "dtypes: float64(2), int64(6), object(2)\n",
      "memory usage: 601.6+ KB\n"
     ]
    }
   ],
   "source": [
    "X_train.info()"
   ]
  },
  {
   "cell_type": "markdown",
   "metadata": {},
   "source": [
    "## Pre-processing Pipeline\n",
    " \n",
    " ##Scale numerical data and encode categorical data\n",
    "Construct a pre-processing pipeline from the given transformers: MinMaxScaler and OneHotEncoder Create lists of indexes from the list of column namesNeed to be numeric not string to specify columns name in column transformer"
   ]
  },
  {
   "cell_type": "code",
   "execution_count": 10,
   "metadata": {},
   "outputs": [
    {
     "name": "stdout",
     "output_type": "stream",
     "text": [
      "[0, 3, 4, 5, 6, 7, 8, 9]\n"
     ]
    }
   ],
   "source": [
    "num_features = [] \n",
    "\n",
    "for i in num_columns:\n",
    "    location = X.columns.get_loc(i)\n",
    "    num_features.append(location)\n",
    "print(num_features)  "
   ]
  },
  {
   "cell_type": "code",
   "execution_count": 11,
   "metadata": {},
   "outputs": [
    {
     "name": "stdout",
     "output_type": "stream",
     "text": [
      "[1, 2]\n"
     ]
    }
   ],
   "source": [
    "cat_features = []\n",
    "\n",
    "for i in cat_columns:\n",
    "    location = X.columns.get_loc(i)\n",
    "    cat_features.append(location)\n",
    "print(cat_features) "
   ]
  },
  {
   "cell_type": "code",
   "execution_count": 12,
   "metadata": {},
   "outputs": [
    {
     "data": {
      "text/plain": [
       "ColumnTransformer(transformers=[('minmaxscaler', MinMaxScaler(),\n",
       "                                 [0, 3, 4, 5, 6, 7, 8, 9]),\n",
       "                                ('onehotencoder', OneHotEncoder(sparse=False),\n",
       "                                 [1, 2])])"
      ]
     },
     "execution_count": 12,
     "metadata": {},
     "output_type": "execute_result"
    }
   ],
   "source": [
    "# Define column transformer\n",
    "# Need to be numeric not string to specify columns name \n",
    "preprocess = make_column_transformer(\n",
    "    (MinMaxScaler(), num_features),\n",
    "    (OneHotEncoder(sparse=False), cat_features)\n",
    ")\n",
    "preprocess"
   ]
  },
  {
   "cell_type": "code",
   "execution_count": 13,
   "metadata": {},
   "outputs": [
    {
     "data": {
      "text/plain": [
       "Pipeline(steps=[('columntransformer',\n",
       "                 ColumnTransformer(transformers=[('minmaxscaler',\n",
       "                                                  MinMaxScaler(),\n",
       "                                                  [0, 3, 4, 5, 6, 7, 8, 9]),\n",
       "                                                 ('onehotencoder',\n",
       "                                                  OneHotEncoder(sparse=False),\n",
       "                                                  [1, 2])])),\n",
       "                ('smote', SMOTE(random_state=10)),\n",
       "                ('logisticregression', LogisticRegression(random_state=10))])"
      ]
     },
     "execution_count": 13,
     "metadata": {},
     "output_type": "execute_result"
    }
   ],
   "source": [
    "# Import classifier\n",
    "from sklearn.linear_model import LogisticRegression \n",
    "\n",
    "# Define model with pipeline\n",
    "model = imbl_pipe(preprocess,\n",
    "                  SMOTE(sampling_strategy='auto', random_state=random_state),\n",
    "                  LogisticRegression(random_state=random_state))\n",
    "\n",
    "model"
   ]
  },
  {
   "cell_type": "code",
   "execution_count": 14,
   "metadata": {},
   "outputs": [],
   "source": [
    " # Create the GridSearchCV model\n",
    "# Create the GridSearch estimator along with a parameter object containing the values to adjust\n",
    "from sklearn.model_selection import GridSearchCV\n",
    "lr_param_grid = {\n",
    "    'logisticregression__C' : [0.01, 0.05, 0.1, 0.5, 1, 5],\n",
    "    'logisticregression__solver' : ['liblinear', 'newton-cg', 'lbfgs', 'sag', 'saga']\n",
    "}\n",
    "\n",
    "lr_grid = GridSearchCV(model, lr_param_grid, verbose=3, cv= 5, scoring='accuracy')"
   ]
  },
  {
   "cell_type": "code",
   "execution_count": 15,
   "metadata": {
    "scrolled": true
   },
   "outputs": [
    {
     "name": "stdout",
     "output_type": "stream",
     "text": [
      "Fitting 5 folds for each of 30 candidates, totalling 150 fits\n",
      "[CV] logisticregression__C=0.01, logisticregression__solver=liblinear \n"
     ]
    },
    {
     "name": "stderr",
     "output_type": "stream",
     "text": [
      "[Parallel(n_jobs=1)]: Using backend SequentialBackend with 1 concurrent workers.\n"
     ]
    },
    {
     "name": "stdout",
     "output_type": "stream",
     "text": [
      "[CV]  logisticregression__C=0.01, logisticregression__solver=liblinear, score=0.663, total=   0.2s\n",
      "[CV] logisticregression__C=0.01, logisticregression__solver=liblinear \n",
      "[CV]  logisticregression__C=0.01, logisticregression__solver=liblinear, score=0.685, total=   0.1s\n",
      "[CV] logisticregression__C=0.01, logisticregression__solver=liblinear \n"
     ]
    },
    {
     "name": "stderr",
     "output_type": "stream",
     "text": [
      "[Parallel(n_jobs=1)]: Done   1 out of   1 | elapsed:    0.1s remaining:    0.0s\n",
      "[Parallel(n_jobs=1)]: Done   2 out of   2 | elapsed:    0.2s remaining:    0.0s\n"
     ]
    },
    {
     "name": "stdout",
     "output_type": "stream",
     "text": [
      "[CV]  logisticregression__C=0.01, logisticregression__solver=liblinear, score=0.681, total=   0.1s\n",
      "[CV] logisticregression__C=0.01, logisticregression__solver=liblinear \n",
      "[CV]  logisticregression__C=0.01, logisticregression__solver=liblinear, score=0.688, total=   0.1s\n",
      "[CV] logisticregression__C=0.01, logisticregression__solver=liblinear \n",
      "[CV]  logisticregression__C=0.01, logisticregression__solver=liblinear, score=0.687, total=   0.1s\n",
      "[CV] logisticregression__C=0.01, logisticregression__solver=newton-cg \n",
      "[CV]  logisticregression__C=0.01, logisticregression__solver=newton-cg, score=0.663, total=   0.1s\n",
      "[CV] logisticregression__C=0.01, logisticregression__solver=newton-cg \n",
      "[CV]  logisticregression__C=0.01, logisticregression__solver=newton-cg, score=0.686, total=   0.2s\n",
      "[CV] logisticregression__C=0.01, logisticregression__solver=newton-cg \n",
      "[CV]  logisticregression__C=0.01, logisticregression__solver=newton-cg, score=0.680, total=   0.1s\n",
      "[CV] logisticregression__C=0.01, logisticregression__solver=newton-cg \n",
      "[CV]  logisticregression__C=0.01, logisticregression__solver=newton-cg, score=0.688, total=   0.5s\n",
      "[CV] logisticregression__C=0.01, logisticregression__solver=newton-cg \n",
      "[CV]  logisticregression__C=0.01, logisticregression__solver=newton-cg, score=0.689, total=   0.4s\n",
      "[CV] logisticregression__C=0.01, logisticregression__solver=lbfgs ....\n",
      "[CV]  logisticregression__C=0.01, logisticregression__solver=lbfgs, score=0.663, total=   0.1s\n",
      "[CV] logisticregression__C=0.01, logisticregression__solver=lbfgs ....\n",
      "[CV]  logisticregression__C=0.01, logisticregression__solver=lbfgs, score=0.686, total=   0.1s\n",
      "[CV] logisticregression__C=0.01, logisticregression__solver=lbfgs ....\n",
      "[CV]  logisticregression__C=0.01, logisticregression__solver=lbfgs, score=0.680, total=   0.1s\n",
      "[CV] logisticregression__C=0.01, logisticregression__solver=lbfgs ....\n",
      "[CV]  logisticregression__C=0.01, logisticregression__solver=lbfgs, score=0.688, total=   0.1s\n",
      "[CV] logisticregression__C=0.01, logisticregression__solver=lbfgs ....\n",
      "[CV]  logisticregression__C=0.01, logisticregression__solver=lbfgs, score=0.689, total=   0.1s\n",
      "[CV] logisticregression__C=0.01, logisticregression__solver=sag ......\n",
      "[CV]  logisticregression__C=0.01, logisticregression__solver=sag, score=0.663, total=   0.1s\n",
      "[CV] logisticregression__C=0.01, logisticregression__solver=sag ......\n",
      "[CV]  logisticregression__C=0.01, logisticregression__solver=sag, score=0.686, total=   0.1s\n",
      "[CV] logisticregression__C=0.01, logisticregression__solver=sag ......\n",
      "[CV]  logisticregression__C=0.01, logisticregression__solver=sag, score=0.680, total=   0.1s\n",
      "[CV] logisticregression__C=0.01, logisticregression__solver=sag ......\n",
      "[CV]  logisticregression__C=0.01, logisticregression__solver=sag, score=0.688, total=   0.1s\n",
      "[CV] logisticregression__C=0.01, logisticregression__solver=sag ......\n",
      "[CV]  logisticregression__C=0.01, logisticregression__solver=sag, score=0.689, total=   0.1s\n",
      "[CV] logisticregression__C=0.01, logisticregression__solver=saga .....\n",
      "[CV]  logisticregression__C=0.01, logisticregression__solver=saga, score=0.663, total=   0.1s\n",
      "[CV] logisticregression__C=0.01, logisticregression__solver=saga .....\n",
      "[CV]  logisticregression__C=0.01, logisticregression__solver=saga, score=0.686, total=   0.2s\n",
      "[CV] logisticregression__C=0.01, logisticregression__solver=saga .....\n",
      "[CV]  logisticregression__C=0.01, logisticregression__solver=saga, score=0.680, total=   0.1s\n",
      "[CV] logisticregression__C=0.01, logisticregression__solver=saga .....\n",
      "[CV]  logisticregression__C=0.01, logisticregression__solver=saga, score=0.688, total=   0.1s\n",
      "[CV] logisticregression__C=0.01, logisticregression__solver=saga .....\n",
      "[CV]  logisticregression__C=0.01, logisticregression__solver=saga, score=0.689, total=   0.1s\n",
      "[CV] logisticregression__C=0.05, logisticregression__solver=liblinear \n",
      "[CV]  logisticregression__C=0.05, logisticregression__solver=liblinear, score=0.689, total=   0.1s\n",
      "[CV] logisticregression__C=0.05, logisticregression__solver=liblinear \n",
      "[CV]  logisticregression__C=0.05, logisticregression__solver=liblinear, score=0.704, total=   0.1s\n",
      "[CV] logisticregression__C=0.05, logisticregression__solver=liblinear \n",
      "[CV]  logisticregression__C=0.05, logisticregression__solver=liblinear, score=0.706, total=   0.1s\n",
      "[CV] logisticregression__C=0.05, logisticregression__solver=liblinear \n",
      "[CV]  logisticregression__C=0.05, logisticregression__solver=liblinear, score=0.697, total=   0.1s\n",
      "[CV] logisticregression__C=0.05, logisticregression__solver=liblinear \n",
      "[CV]  logisticregression__C=0.05, logisticregression__solver=liblinear, score=0.710, total=   0.1s\n",
      "[CV] logisticregression__C=0.05, logisticregression__solver=newton-cg \n",
      "[CV]  logisticregression__C=0.05, logisticregression__solver=newton-cg, score=0.689, total=   0.1s\n",
      "[CV] logisticregression__C=0.05, logisticregression__solver=newton-cg \n",
      "[CV]  logisticregression__C=0.05, logisticregression__solver=newton-cg, score=0.704, total=   0.1s\n",
      "[CV] logisticregression__C=0.05, logisticregression__solver=newton-cg \n",
      "[CV]  logisticregression__C=0.05, logisticregression__solver=newton-cg, score=0.709, total=   0.1s\n",
      "[CV] logisticregression__C=0.05, logisticregression__solver=newton-cg \n",
      "[CV]  logisticregression__C=0.05, logisticregression__solver=newton-cg, score=0.697, total=   0.1s\n",
      "[CV] logisticregression__C=0.05, logisticregression__solver=newton-cg \n",
      "[CV]  logisticregression__C=0.05, logisticregression__solver=newton-cg, score=0.714, total=   0.2s\n",
      "[CV] logisticregression__C=0.05, logisticregression__solver=lbfgs ....\n",
      "[CV]  logisticregression__C=0.05, logisticregression__solver=lbfgs, score=0.689, total=   0.3s\n",
      "[CV] logisticregression__C=0.05, logisticregression__solver=lbfgs ....\n",
      "[CV]  logisticregression__C=0.05, logisticregression__solver=lbfgs, score=0.704, total=   0.1s\n",
      "[CV] logisticregression__C=0.05, logisticregression__solver=lbfgs ....\n",
      "[CV]  logisticregression__C=0.05, logisticregression__solver=lbfgs, score=0.709, total=   0.1s\n",
      "[CV] logisticregression__C=0.05, logisticregression__solver=lbfgs ....\n",
      "[CV]  logisticregression__C=0.05, logisticregression__solver=lbfgs, score=0.697, total=   0.1s\n",
      "[CV] logisticregression__C=0.05, logisticregression__solver=lbfgs ....\n",
      "[CV]  logisticregression__C=0.05, logisticregression__solver=lbfgs, score=0.714, total=   0.1s\n",
      "[CV] logisticregression__C=0.05, logisticregression__solver=sag ......\n",
      "[CV]  logisticregression__C=0.05, logisticregression__solver=sag, score=0.690, total=   0.2s\n",
      "[CV] logisticregression__C=0.05, logisticregression__solver=sag ......\n",
      "[CV]  logisticregression__C=0.05, logisticregression__solver=sag, score=0.704, total=   0.2s\n",
      "[CV] logisticregression__C=0.05, logisticregression__solver=sag ......\n",
      "[CV]  logisticregression__C=0.05, logisticregression__solver=sag, score=0.709, total=   0.2s\n",
      "[CV] logisticregression__C=0.05, logisticregression__solver=sag ......\n",
      "[CV]  logisticregression__C=0.05, logisticregression__solver=sag, score=0.697, total=   0.2s\n",
      "[CV] logisticregression__C=0.05, logisticregression__solver=sag ......\n",
      "[CV]  logisticregression__C=0.05, logisticregression__solver=sag, score=0.714, total=   0.2s\n",
      "[CV] logisticregression__C=0.05, logisticregression__solver=saga .....\n",
      "[CV]  logisticregression__C=0.05, logisticregression__solver=saga, score=0.689, total=   0.4s\n",
      "[CV] logisticregression__C=0.05, logisticregression__solver=saga .....\n",
      "[CV]  logisticregression__C=0.05, logisticregression__solver=saga, score=0.704, total=   0.3s\n",
      "[CV] logisticregression__C=0.05, logisticregression__solver=saga .....\n",
      "[CV]  logisticregression__C=0.05, logisticregression__solver=saga, score=0.709, total=   0.2s\n",
      "[CV] logisticregression__C=0.05, logisticregression__solver=saga .....\n",
      "[CV]  logisticregression__C=0.05, logisticregression__solver=saga, score=0.697, total=   0.1s\n",
      "[CV] logisticregression__C=0.05, logisticregression__solver=saga .....\n",
      "[CV]  logisticregression__C=0.05, logisticregression__solver=saga, score=0.714, total=   0.1s\n",
      "[CV] logisticregression__C=0.1, logisticregression__solver=liblinear .\n",
      "[CV]  logisticregression__C=0.1, logisticregression__solver=liblinear, score=0.702, total=   0.1s\n",
      "[CV] logisticregression__C=0.1, logisticregression__solver=liblinear .\n",
      "[CV]  logisticregression__C=0.1, logisticregression__solver=liblinear, score=0.704, total=   0.1s\n",
      "[CV] logisticregression__C=0.1, logisticregression__solver=liblinear .\n"
     ]
    },
    {
     "name": "stdout",
     "output_type": "stream",
     "text": [
      "[CV]  logisticregression__C=0.1, logisticregression__solver=liblinear, score=0.716, total=   0.1s\n",
      "[CV] logisticregression__C=0.1, logisticregression__solver=liblinear .\n",
      "[CV]  logisticregression__C=0.1, logisticregression__solver=liblinear, score=0.706, total=   0.1s\n",
      "[CV] logisticregression__C=0.1, logisticregression__solver=liblinear .\n",
      "[CV]  logisticregression__C=0.1, logisticregression__solver=liblinear, score=0.722, total=   0.1s\n",
      "[CV] logisticregression__C=0.1, logisticregression__solver=newton-cg .\n",
      "[CV]  logisticregression__C=0.1, logisticregression__solver=newton-cg, score=0.706, total=   0.1s\n",
      "[CV] logisticregression__C=0.1, logisticregression__solver=newton-cg .\n",
      "[CV]  logisticregression__C=0.1, logisticregression__solver=newton-cg, score=0.706, total=   0.1s\n",
      "[CV] logisticregression__C=0.1, logisticregression__solver=newton-cg .\n",
      "[CV]  logisticregression__C=0.1, logisticregression__solver=newton-cg, score=0.716, total=   0.1s\n",
      "[CV] logisticregression__C=0.1, logisticregression__solver=newton-cg .\n",
      "[CV]  logisticregression__C=0.1, logisticregression__solver=newton-cg, score=0.707, total=   0.2s\n",
      "[CV] logisticregression__C=0.1, logisticregression__solver=newton-cg .\n",
      "[CV]  logisticregression__C=0.1, logisticregression__solver=newton-cg, score=0.722, total=   0.1s\n",
      "[CV] logisticregression__C=0.1, logisticregression__solver=lbfgs .....\n",
      "[CV]  logisticregression__C=0.1, logisticregression__solver=lbfgs, score=0.706, total=   0.1s\n",
      "[CV] logisticregression__C=0.1, logisticregression__solver=lbfgs .....\n",
      "[CV]  logisticregression__C=0.1, logisticregression__solver=lbfgs, score=0.706, total=   0.1s\n",
      "[CV] logisticregression__C=0.1, logisticregression__solver=lbfgs .....\n",
      "[CV]  logisticregression__C=0.1, logisticregression__solver=lbfgs, score=0.716, total=   0.1s\n",
      "[CV] logisticregression__C=0.1, logisticregression__solver=lbfgs .....\n",
      "[CV]  logisticregression__C=0.1, logisticregression__solver=lbfgs, score=0.707, total=   0.1s\n",
      "[CV] logisticregression__C=0.1, logisticregression__solver=lbfgs .....\n",
      "[CV]  logisticregression__C=0.1, logisticregression__solver=lbfgs, score=0.722, total=   0.1s\n",
      "[CV] logisticregression__C=0.1, logisticregression__solver=sag .......\n",
      "[CV]  logisticregression__C=0.1, logisticregression__solver=sag, score=0.706, total=   0.1s\n",
      "[CV] logisticregression__C=0.1, logisticregression__solver=sag .......\n",
      "[CV]  logisticregression__C=0.1, logisticregression__solver=sag, score=0.706, total=   0.1s\n",
      "[CV] logisticregression__C=0.1, logisticregression__solver=sag .......\n",
      "[CV]  logisticregression__C=0.1, logisticregression__solver=sag, score=0.716, total=   0.1s\n",
      "[CV] logisticregression__C=0.1, logisticregression__solver=sag .......\n",
      "[CV]  logisticregression__C=0.1, logisticregression__solver=sag, score=0.707, total=   0.1s\n",
      "[CV] logisticregression__C=0.1, logisticregression__solver=sag .......\n",
      "[CV]  logisticregression__C=0.1, logisticregression__solver=sag, score=0.722, total=   0.1s\n",
      "[CV] logisticregression__C=0.1, logisticregression__solver=saga ......\n",
      "[CV]  logisticregression__C=0.1, logisticregression__solver=saga, score=0.706, total=   0.2s\n",
      "[CV] logisticregression__C=0.1, logisticregression__solver=saga ......\n",
      "[CV]  logisticregression__C=0.1, logisticregression__solver=saga, score=0.706, total=   0.1s\n",
      "[CV] logisticregression__C=0.1, logisticregression__solver=saga ......\n",
      "[CV]  logisticregression__C=0.1, logisticregression__solver=saga, score=0.716, total=   0.1s\n",
      "[CV] logisticregression__C=0.1, logisticregression__solver=saga ......\n",
      "[CV]  logisticregression__C=0.1, logisticregression__solver=saga, score=0.707, total=   0.1s\n",
      "[CV] logisticregression__C=0.1, logisticregression__solver=saga ......\n",
      "[CV]  logisticregression__C=0.1, logisticregression__solver=saga, score=0.721, total=   0.2s\n",
      "[CV] logisticregression__C=0.5, logisticregression__solver=liblinear .\n",
      "[CV]  logisticregression__C=0.5, logisticregression__solver=liblinear, score=0.714, total=   0.1s\n",
      "[CV] logisticregression__C=0.5, logisticregression__solver=liblinear .\n",
      "[CV]  logisticregression__C=0.5, logisticregression__solver=liblinear, score=0.712, total=   0.1s\n",
      "[CV] logisticregression__C=0.5, logisticregression__solver=liblinear .\n",
      "[CV]  logisticregression__C=0.5, logisticregression__solver=liblinear, score=0.719, total=   0.1s\n",
      "[CV] logisticregression__C=0.5, logisticregression__solver=liblinear .\n",
      "[CV]  logisticregression__C=0.5, logisticregression__solver=liblinear, score=0.714, total=   0.1s\n",
      "[CV] logisticregression__C=0.5, logisticregression__solver=liblinear .\n",
      "[CV]  logisticregression__C=0.5, logisticregression__solver=liblinear, score=0.727, total=   0.1s\n",
      "[CV] logisticregression__C=0.5, logisticregression__solver=newton-cg .\n",
      "[CV]  logisticregression__C=0.5, logisticregression__solver=newton-cg, score=0.714, total=   0.2s\n",
      "[CV] logisticregression__C=0.5, logisticregression__solver=newton-cg .\n",
      "[CV]  logisticregression__C=0.5, logisticregression__solver=newton-cg, score=0.711, total=   0.2s\n",
      "[CV] logisticregression__C=0.5, logisticregression__solver=newton-cg .\n",
      "[CV]  logisticregression__C=0.5, logisticregression__solver=newton-cg, score=0.720, total=   0.2s\n",
      "[CV] logisticregression__C=0.5, logisticregression__solver=newton-cg .\n",
      "[CV]  logisticregression__C=0.5, logisticregression__solver=newton-cg, score=0.716, total=   0.3s\n",
      "[CV] logisticregression__C=0.5, logisticregression__solver=newton-cg .\n",
      "[CV]  logisticregression__C=0.5, logisticregression__solver=newton-cg, score=0.729, total=   0.5s\n",
      "[CV] logisticregression__C=0.5, logisticregression__solver=lbfgs .....\n",
      "[CV]  logisticregression__C=0.5, logisticregression__solver=lbfgs, score=0.714, total=   0.2s\n",
      "[CV] logisticregression__C=0.5, logisticregression__solver=lbfgs .....\n",
      "[CV]  logisticregression__C=0.5, logisticregression__solver=lbfgs, score=0.711, total=   0.1s\n",
      "[CV] logisticregression__C=0.5, logisticregression__solver=lbfgs .....\n",
      "[CV]  logisticregression__C=0.5, logisticregression__solver=lbfgs, score=0.720, total=   0.1s\n",
      "[CV] logisticregression__C=0.5, logisticregression__solver=lbfgs .....\n",
      "[CV]  logisticregression__C=0.5, logisticregression__solver=lbfgs, score=0.716, total=   0.1s\n",
      "[CV] logisticregression__C=0.5, logisticregression__solver=lbfgs .....\n",
      "[CV]  logisticregression__C=0.5, logisticregression__solver=lbfgs, score=0.729, total=   0.1s\n",
      "[CV] logisticregression__C=0.5, logisticregression__solver=sag .......\n",
      "[CV]  logisticregression__C=0.5, logisticregression__solver=sag, score=0.714, total=   0.2s\n",
      "[CV] logisticregression__C=0.5, logisticregression__solver=sag .......\n",
      "[CV]  logisticregression__C=0.5, logisticregression__solver=sag, score=0.711, total=   0.1s\n",
      "[CV] logisticregression__C=0.5, logisticregression__solver=sag .......\n",
      "[CV]  logisticregression__C=0.5, logisticregression__solver=sag, score=0.720, total=   0.2s\n",
      "[CV] logisticregression__C=0.5, logisticregression__solver=sag .......\n",
      "[CV]  logisticregression__C=0.5, logisticregression__solver=sag, score=0.716, total=   0.1s\n",
      "[CV] logisticregression__C=0.5, logisticregression__solver=sag .......\n",
      "[CV]  logisticregression__C=0.5, logisticregression__solver=sag, score=0.729, total=   0.2s\n",
      "[CV] logisticregression__C=0.5, logisticregression__solver=saga ......\n",
      "[CV]  logisticregression__C=0.5, logisticregression__solver=saga, score=0.714, total=   0.3s\n",
      "[CV] logisticregression__C=0.5, logisticregression__solver=saga ......\n",
      "[CV]  logisticregression__C=0.5, logisticregression__solver=saga, score=0.711, total=   0.5s\n",
      "[CV] logisticregression__C=0.5, logisticregression__solver=saga ......\n",
      "[CV]  logisticregression__C=0.5, logisticregression__solver=saga, score=0.720, total=   0.7s\n",
      "[CV] logisticregression__C=0.5, logisticregression__solver=saga ......\n",
      "[CV]  logisticregression__C=0.5, logisticregression__solver=saga, score=0.716, total=   0.4s\n",
      "[CV] logisticregression__C=0.5, logisticregression__solver=saga ......\n",
      "[CV]  logisticregression__C=0.5, logisticregression__solver=saga, score=0.729, total=   0.2s\n",
      "[CV] logisticregression__C=1, logisticregression__solver=liblinear ...\n",
      "[CV]  logisticregression__C=1, logisticregression__solver=liblinear, score=0.718, total=   0.1s\n",
      "[CV] logisticregression__C=1, logisticregression__solver=liblinear ...\n",
      "[CV]  logisticregression__C=1, logisticregression__solver=liblinear, score=0.712, total=   0.1s\n",
      "[CV] logisticregression__C=1, logisticregression__solver=liblinear ...\n",
      "[CV]  logisticregression__C=1, logisticregression__solver=liblinear, score=0.720, total=   0.1s\n",
      "[CV] logisticregression__C=1, logisticregression__solver=liblinear ...\n"
     ]
    },
    {
     "name": "stdout",
     "output_type": "stream",
     "text": [
      "[CV]  logisticregression__C=1, logisticregression__solver=liblinear, score=0.716, total=   0.3s\n",
      "[CV] logisticregression__C=1, logisticregression__solver=liblinear ...\n",
      "[CV]  logisticregression__C=1, logisticregression__solver=liblinear, score=0.729, total=   0.2s\n",
      "[CV] logisticregression__C=1, logisticregression__solver=newton-cg ...\n",
      "[CV]  logisticregression__C=1, logisticregression__solver=newton-cg, score=0.718, total=   0.2s\n",
      "[CV] logisticregression__C=1, logisticregression__solver=newton-cg ...\n",
      "[CV]  logisticregression__C=1, logisticregression__solver=newton-cg, score=0.712, total=   0.2s\n",
      "[CV] logisticregression__C=1, logisticregression__solver=newton-cg ...\n",
      "[CV]  logisticregression__C=1, logisticregression__solver=newton-cg, score=0.719, total=   0.7s\n",
      "[CV] logisticregression__C=1, logisticregression__solver=newton-cg ...\n",
      "[CV]  logisticregression__C=1, logisticregression__solver=newton-cg, score=0.716, total=   0.3s\n",
      "[CV] logisticregression__C=1, logisticregression__solver=newton-cg ...\n",
      "[CV]  logisticregression__C=1, logisticregression__solver=newton-cg, score=0.729, total=   0.2s\n",
      "[CV] logisticregression__C=1, logisticregression__solver=lbfgs .......\n",
      "[CV]  logisticregression__C=1, logisticregression__solver=lbfgs, score=0.718, total=   0.2s\n",
      "[CV] logisticregression__C=1, logisticregression__solver=lbfgs .......\n",
      "[CV]  logisticregression__C=1, logisticregression__solver=lbfgs, score=0.712, total=   0.2s\n",
      "[CV] logisticregression__C=1, logisticregression__solver=lbfgs .......\n",
      "[CV]  logisticregression__C=1, logisticregression__solver=lbfgs, score=0.719, total=   0.1s\n",
      "[CV] logisticregression__C=1, logisticregression__solver=lbfgs .......\n",
      "[CV]  logisticregression__C=1, logisticregression__solver=lbfgs, score=0.716, total=   0.1s\n",
      "[CV] logisticregression__C=1, logisticregression__solver=lbfgs .......\n",
      "[CV]  logisticregression__C=1, logisticregression__solver=lbfgs, score=0.729, total=   0.1s\n",
      "[CV] logisticregression__C=1, logisticregression__solver=sag .........\n",
      "[CV]  logisticregression__C=1, logisticregression__solver=sag, score=0.718, total=   0.2s\n",
      "[CV] logisticregression__C=1, logisticregression__solver=sag .........\n",
      "[CV]  logisticregression__C=1, logisticregression__solver=sag, score=0.712, total=   0.2s\n",
      "[CV] logisticregression__C=1, logisticregression__solver=sag .........\n",
      "[CV]  logisticregression__C=1, logisticregression__solver=sag, score=0.719, total=   0.1s\n",
      "[CV] logisticregression__C=1, logisticregression__solver=sag .........\n",
      "[CV]  logisticregression__C=1, logisticregression__solver=sag, score=0.716, total=   0.2s\n",
      "[CV] logisticregression__C=1, logisticregression__solver=sag .........\n",
      "[CV]  logisticregression__C=1, logisticregression__solver=sag, score=0.729, total=   0.2s\n",
      "[CV] logisticregression__C=1, logisticregression__solver=saga ........\n",
      "[CV]  logisticregression__C=1, logisticregression__solver=saga, score=0.718, total=   0.2s\n",
      "[CV] logisticregression__C=1, logisticregression__solver=saga ........\n",
      "[CV]  logisticregression__C=1, logisticregression__solver=saga, score=0.712, total=   0.2s\n",
      "[CV] logisticregression__C=1, logisticregression__solver=saga ........\n",
      "[CV]  logisticregression__C=1, logisticregression__solver=saga, score=0.719, total=   0.2s\n",
      "[CV] logisticregression__C=1, logisticregression__solver=saga ........\n",
      "[CV]  logisticregression__C=1, logisticregression__solver=saga, score=0.716, total=   0.2s\n",
      "[CV] logisticregression__C=1, logisticregression__solver=saga ........\n",
      "[CV]  logisticregression__C=1, logisticregression__solver=saga, score=0.729, total=   0.3s\n",
      "[CV] logisticregression__C=5, logisticregression__solver=liblinear ...\n",
      "[CV]  logisticregression__C=5, logisticregression__solver=liblinear, score=0.718, total=   0.1s\n",
      "[CV] logisticregression__C=5, logisticregression__solver=liblinear ...\n",
      "[CV]  logisticregression__C=5, logisticregression__solver=liblinear, score=0.713, total=   0.1s\n",
      "[CV] logisticregression__C=5, logisticregression__solver=liblinear ...\n",
      "[CV]  logisticregression__C=5, logisticregression__solver=liblinear, score=0.719, total=   0.1s\n",
      "[CV] logisticregression__C=5, logisticregression__solver=liblinear ...\n",
      "[CV]  logisticregression__C=5, logisticregression__solver=liblinear, score=0.718, total=   0.1s\n",
      "[CV] logisticregression__C=5, logisticregression__solver=liblinear ...\n",
      "[CV]  logisticregression__C=5, logisticregression__solver=liblinear, score=0.731, total=   0.1s\n",
      "[CV] logisticregression__C=5, logisticregression__solver=newton-cg ...\n",
      "[CV]  logisticregression__C=5, logisticregression__solver=newton-cg, score=0.718, total=   0.2s\n",
      "[CV] logisticregression__C=5, logisticregression__solver=newton-cg ...\n",
      "[CV]  logisticregression__C=5, logisticregression__solver=newton-cg, score=0.713, total=   0.1s\n",
      "[CV] logisticregression__C=5, logisticregression__solver=newton-cg ...\n",
      "[CV]  logisticregression__C=5, logisticregression__solver=newton-cg, score=0.719, total=   0.2s\n",
      "[CV] logisticregression__C=5, logisticregression__solver=newton-cg ...\n",
      "[CV]  logisticregression__C=5, logisticregression__solver=newton-cg, score=0.718, total=   0.2s\n",
      "[CV] logisticregression__C=5, logisticregression__solver=newton-cg ...\n",
      "[CV]  logisticregression__C=5, logisticregression__solver=newton-cg, score=0.731, total=   0.2s\n",
      "[CV] logisticregression__C=5, logisticregression__solver=lbfgs .......\n",
      "[CV]  logisticregression__C=5, logisticregression__solver=lbfgs, score=0.718, total=   0.1s\n",
      "[CV] logisticregression__C=5, logisticregression__solver=lbfgs .......\n",
      "[CV]  logisticregression__C=5, logisticregression__solver=lbfgs, score=0.713, total=   0.2s\n",
      "[CV] logisticregression__C=5, logisticregression__solver=lbfgs .......\n",
      "[CV]  logisticregression__C=5, logisticregression__solver=lbfgs, score=0.719, total=   0.5s\n",
      "[CV] logisticregression__C=5, logisticregression__solver=lbfgs .......\n",
      "[CV]  logisticregression__C=5, logisticregression__solver=lbfgs, score=0.718, total=   0.3s\n",
      "[CV] logisticregression__C=5, logisticregression__solver=lbfgs .......\n",
      "[CV]  logisticregression__C=5, logisticregression__solver=lbfgs, score=0.731, total=   0.2s\n",
      "[CV] logisticregression__C=5, logisticregression__solver=sag .........\n",
      "[CV]  logisticregression__C=5, logisticregression__solver=sag, score=0.718, total=   0.5s\n",
      "[CV] logisticregression__C=5, logisticregression__solver=sag .........\n",
      "[CV]  logisticregression__C=5, logisticregression__solver=sag, score=0.713, total=   0.4s\n",
      "[CV] logisticregression__C=5, logisticregression__solver=sag .........\n",
      "[CV]  logisticregression__C=5, logisticregression__solver=sag, score=0.719, total=   0.3s\n",
      "[CV] logisticregression__C=5, logisticregression__solver=sag .........\n",
      "[CV]  logisticregression__C=5, logisticregression__solver=sag, score=0.718, total=   0.4s\n",
      "[CV] logisticregression__C=5, logisticregression__solver=sag .........\n",
      "[CV]  logisticregression__C=5, logisticregression__solver=sag, score=0.731, total=   0.4s\n",
      "[CV] logisticregression__C=5, logisticregression__solver=saga ........\n"
     ]
    },
    {
     "name": "stderr",
     "output_type": "stream",
     "text": [
      "C:\\Users\\newcomern\\Anaconda3\\lib\\site-packages\\sklearn\\linear_model\\_sag.py:330: ConvergenceWarning: The max_iter was reached which means the coef_ did not converge\n",
      "  \"the coef_ did not converge\", ConvergenceWarning)\n"
     ]
    },
    {
     "name": "stdout",
     "output_type": "stream",
     "text": [
      "[CV]  logisticregression__C=5, logisticregression__solver=saga, score=0.718, total=   0.5s\n",
      "[CV] logisticregression__C=5, logisticregression__solver=saga ........\n"
     ]
    },
    {
     "name": "stderr",
     "output_type": "stream",
     "text": [
      "C:\\Users\\newcomern\\Anaconda3\\lib\\site-packages\\sklearn\\linear_model\\_sag.py:330: ConvergenceWarning: The max_iter was reached which means the coef_ did not converge\n",
      "  \"the coef_ did not converge\", ConvergenceWarning)\n"
     ]
    },
    {
     "name": "stdout",
     "output_type": "stream",
     "text": [
      "[CV]  logisticregression__C=5, logisticregression__solver=saga, score=0.713, total=   1.1s\n",
      "[CV] logisticregression__C=5, logisticregression__solver=saga ........\n"
     ]
    },
    {
     "name": "stderr",
     "output_type": "stream",
     "text": [
      "C:\\Users\\newcomern\\Anaconda3\\lib\\site-packages\\sklearn\\linear_model\\_sag.py:330: ConvergenceWarning: The max_iter was reached which means the coef_ did not converge\n",
      "  \"the coef_ did not converge\", ConvergenceWarning)\n"
     ]
    },
    {
     "name": "stdout",
     "output_type": "stream",
     "text": [
      "[CV]  logisticregression__C=5, logisticregression__solver=saga, score=0.719, total=   0.7s\n",
      "[CV] logisticregression__C=5, logisticregression__solver=saga ........\n"
     ]
    },
    {
     "name": "stderr",
     "output_type": "stream",
     "text": [
      "C:\\Users\\newcomern\\Anaconda3\\lib\\site-packages\\sklearn\\linear_model\\_sag.py:330: ConvergenceWarning: The max_iter was reached which means the coef_ did not converge\n",
      "  \"the coef_ did not converge\", ConvergenceWarning)\n"
     ]
    },
    {
     "name": "stdout",
     "output_type": "stream",
     "text": [
      "[CV]  logisticregression__C=5, logisticregression__solver=saga, score=0.718, total=   0.6s\n",
      "[CV] logisticregression__C=5, logisticregression__solver=saga ........\n"
     ]
    },
    {
     "name": "stderr",
     "output_type": "stream",
     "text": [
      "C:\\Users\\newcomern\\Anaconda3\\lib\\site-packages\\sklearn\\linear_model\\_sag.py:330: ConvergenceWarning: The max_iter was reached which means the coef_ did not converge\n",
      "  \"the coef_ did not converge\", ConvergenceWarning)\n",
      "[Parallel(n_jobs=1)]: Done 150 out of 150 | elapsed:   30.7s finished\n"
     ]
    },
    {
     "name": "stdout",
     "output_type": "stream",
     "text": [
      "[CV]  logisticregression__C=5, logisticregression__solver=saga, score=0.731, total=   0.6s\n"
     ]
    },
    {
     "data": {
      "text/plain": [
       "GridSearchCV(cv=5,\n",
       "             estimator=Pipeline(steps=[('columntransformer',\n",
       "                                        ColumnTransformer(transformers=[('minmaxscaler',\n",
       "                                                                         MinMaxScaler(),\n",
       "                                                                         [0, 3,\n",
       "                                                                          4, 5,\n",
       "                                                                          6, 7,\n",
       "                                                                          8,\n",
       "                                                                          9]),\n",
       "                                                                        ('onehotencoder',\n",
       "                                                                         OneHotEncoder(sparse=False),\n",
       "                                                                         [1,\n",
       "                                                                          2])])),\n",
       "                                       ('smote', SMOTE(random_state=10)),\n",
       "                                       ('logisticregression',\n",
       "                                        LogisticRegression(random_state=10))]),\n",
       "             param_grid={'logisticregression__C': [0.01, 0.05, 0.1, 0.5, 1, 5],\n",
       "                         'logisticregression__solver': ['liblinear',\n",
       "                                                        'newton-cg', 'lbfgs',\n",
       "                                                        'sag', 'saga']},\n",
       "             scoring='accuracy', verbose=3)"
      ]
     },
     "execution_count": 15,
     "metadata": {},
     "output_type": "execute_result"
    }
   ],
   "source": [
    "lr_grid.fit(X_train, y_train)"
   ]
  },
  {
   "cell_type": "code",
   "execution_count": 16,
   "metadata": {},
   "outputs": [
    {
     "name": "stdout",
     "output_type": "stream",
     "text": [
      "{'logisticregression__C': 5, 'logisticregression__solver': 'liblinear'}\n"
     ]
    }
   ],
   "source": [
    "print(lr_grid.best_params_)"
   ]
  },
  {
   "cell_type": "code",
   "execution_count": 17,
   "metadata": {},
   "outputs": [
    {
     "name": "stdout",
     "output_type": "stream",
     "text": [
      "0.7197142857142858\n"
     ]
    }
   ],
   "source": [
    "print(lr_grid.best_score_)"
   ]
  },
  {
   "cell_type": "code",
   "execution_count": 18,
   "metadata": {},
   "outputs": [
    {
     "name": "stdout",
     "output_type": "stream",
     "text": [
      "Training Data Score: 0.722\n",
      "Testing Data Score: 0.707\n"
     ]
    }
   ],
   "source": [
    "print(f\"Training Data Score: {lr_grid.score(X_train, y_train)}\")\n",
    "print(f\"Testing Data Score: {lr_grid.score(X_test, y_test)}\")"
   ]
  },
  {
   "cell_type": "code",
   "execution_count": 19,
   "metadata": {},
   "outputs": [
    {
     "name": "stdout",
     "output_type": "stream",
     "text": [
      "First 10 Predictions:   [0 0 0 0 1 1 0 0 0 0]\n",
      "First 10 Actual labels: [1, 0, 0, 0, 0, 1, 0, 0, 0, 0]\n"
     ]
    }
   ],
   "source": [
    "predictions = lr_grid.predict(X_test)\n",
    "print(f\"First 10 Predictions:   {predictions[:10]}\")\n",
    "print(f\"First 10 Actual labels: {y_test[:10].tolist()}\")"
   ]
  },
  {
   "cell_type": "code",
   "execution_count": 20,
   "metadata": {},
   "outputs": [
    {
     "data": {
      "text/html": [
       "<div>\n",
       "<style scoped>\n",
       "    .dataframe tbody tr th:only-of-type {\n",
       "        vertical-align: middle;\n",
       "    }\n",
       "\n",
       "    .dataframe tbody tr th {\n",
       "        vertical-align: top;\n",
       "    }\n",
       "\n",
       "    .dataframe thead th {\n",
       "        text-align: right;\n",
       "    }\n",
       "</style>\n",
       "<table border=\"1\" class=\"dataframe\">\n",
       "  <thead>\n",
       "    <tr style=\"text-align: right;\">\n",
       "      <th></th>\n",
       "      <th>Prediction</th>\n",
       "      <th>Actual</th>\n",
       "    </tr>\n",
       "  </thead>\n",
       "  <tbody>\n",
       "    <tr>\n",
       "      <td>0</td>\n",
       "      <td>0</td>\n",
       "      <td>1</td>\n",
       "    </tr>\n",
       "    <tr>\n",
       "      <td>1</td>\n",
       "      <td>0</td>\n",
       "      <td>0</td>\n",
       "    </tr>\n",
       "    <tr>\n",
       "      <td>2</td>\n",
       "      <td>0</td>\n",
       "      <td>0</td>\n",
       "    </tr>\n",
       "    <tr>\n",
       "      <td>3</td>\n",
       "      <td>0</td>\n",
       "      <td>0</td>\n",
       "    </tr>\n",
       "    <tr>\n",
       "      <td>4</td>\n",
       "      <td>1</td>\n",
       "      <td>0</td>\n",
       "    </tr>\n",
       "    <tr>\n",
       "      <td>...</td>\n",
       "      <td>...</td>\n",
       "      <td>...</td>\n",
       "    </tr>\n",
       "    <tr>\n",
       "      <td>2995</td>\n",
       "      <td>0</td>\n",
       "      <td>0</td>\n",
       "    </tr>\n",
       "    <tr>\n",
       "      <td>2996</td>\n",
       "      <td>0</td>\n",
       "      <td>0</td>\n",
       "    </tr>\n",
       "    <tr>\n",
       "      <td>2997</td>\n",
       "      <td>0</td>\n",
       "      <td>0</td>\n",
       "    </tr>\n",
       "    <tr>\n",
       "      <td>2998</td>\n",
       "      <td>0</td>\n",
       "      <td>0</td>\n",
       "    </tr>\n",
       "    <tr>\n",
       "      <td>2999</td>\n",
       "      <td>0</td>\n",
       "      <td>0</td>\n",
       "    </tr>\n",
       "  </tbody>\n",
       "</table>\n",
       "<p>3000 rows × 2 columns</p>\n",
       "</div>"
      ],
      "text/plain": [
       "      Prediction  Actual\n",
       "0              0       1\n",
       "1              0       0\n",
       "2              0       0\n",
       "3              0       0\n",
       "4              1       0\n",
       "...          ...     ...\n",
       "2995           0       0\n",
       "2996           0       0\n",
       "2997           0       0\n",
       "2998           0       0\n",
       "2999           0       0\n",
       "\n",
       "[3000 rows x 2 columns]"
      ]
     },
     "execution_count": 20,
     "metadata": {},
     "output_type": "execute_result"
    }
   ],
   "source": [
    "pd.DataFrame({\"Prediction\": predictions, \"Actual\": y_test}).reset_index(drop=True)"
   ]
  },
  {
   "cell_type": "code",
   "execution_count": 21,
   "metadata": {},
   "outputs": [
    {
     "name": "stdout",
     "output_type": "stream",
     "text": [
      "[[1708  681]\n",
      " [ 198  413]]\n"
     ]
    }
   ],
   "source": [
    "cm = confusion_matrix(y_test, predictions)\n",
    "print(cm)"
   ]
  },
  {
   "cell_type": "code",
   "execution_count": 22,
   "metadata": {},
   "outputs": [
    {
     "name": "stdout",
     "output_type": "stream",
     "text": [
      "[[0.71 0.29]\n",
      " [0.32 0.68]]\n"
     ]
    }
   ],
   "source": [
    "cm = np.around(cm / cm.sum(axis=1)[:, np.newaxis], 2)\n",
    "print(cm)"
   ]
  },
  {
   "cell_type": "code",
   "execution_count": 23,
   "metadata": {},
   "outputs": [
    {
     "name": "stdout",
     "output_type": "stream",
     "text": [
      "              precision    recall  f1-score   support\n",
      "\n",
      "           0       0.90      0.71      0.80      2389\n",
      "           1       0.38      0.68      0.48       611\n",
      "\n",
      "    accuracy                           0.71      3000\n",
      "   macro avg       0.64      0.70      0.64      3000\n",
      "weighted avg       0.79      0.71      0.73      3000\n",
      "\n"
     ]
    }
   ],
   "source": [
    "print(classification_report(y_test, predictions))"
   ]
  },
  {
   "cell_type": "code",
   "execution_count": 24,
   "metadata": {},
   "outputs": [],
   "source": [
    "pred = lr_grid.predict(X_test[:1])"
   ]
  },
  {
   "cell_type": "code",
   "execution_count": 25,
   "metadata": {},
   "outputs": [
    {
     "name": "stdout",
     "output_type": "stream",
     "text": [
      "Predicted classes: [0]\n",
      "Actual Labels: [1]\n"
     ]
    }
   ],
   "source": [
    "print(f\"Predicted classes: {pred}\")\n",
    "print(f\"Actual Labels: {list(y_test[:1])}\")"
   ]
  },
  {
   "cell_type": "code",
   "execution_count": 28,
   "metadata": {},
   "outputs": [
    {
     "data": {
      "text/plain": [
       "['nate_logistic_regression.sav']"
      ]
     },
     "execution_count": 28,
     "metadata": {},
     "output_type": "execute_result"
    }
   ],
   "source": [
    "import joblib\n",
    "\n",
    "filename = '../models/nate_logistic_regression.sav'\n",
    "joblib.dump(lr_grid, filename)"
   ]
  },
  {
   "cell_type": "code",
   "execution_count": 29,
   "metadata": {},
   "outputs": [
    {
     "name": "stdout",
     "output_type": "stream",
     "text": [
      "0.707\n"
     ]
    }
   ],
   "source": [
    "lr_model = joblib.load(filename)\n",
    "print(lr_model.score(X_test, y_test))"
   ]
  },
  {
   "cell_type": "code",
   "execution_count": null,
   "metadata": {},
   "outputs": [],
   "source": []
  }
 ],
 "metadata": {
  "kernelspec": {
   "display_name": "Python 3",
   "language": "python",
   "name": "python3"
  },
  "language_info": {
   "codemirror_mode": {
    "name": "ipython",
    "version": 3
   },
   "file_extension": ".py",
   "mimetype": "text/x-python",
   "name": "python",
   "nbconvert_exporter": "python",
   "pygments_lexer": "ipython3",
   "version": "3.7.7"
  }
 },
 "nbformat": 4,
 "nbformat_minor": 2
}
